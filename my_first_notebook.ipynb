{
 "cells": [
  {
   "cell_type": "code",
   "execution_count": 1,
   "id": "1f95bb89",
   "metadata": {},
   "outputs": [
    {
     "name": "stdout",
     "output_type": "stream",
     "text": [
      "greetings citizens\n"
     ]
    }
   ],
   "source": [
    "print(\"greetings citizens\")"
   ]
  },
  {
   "cell_type": "code",
   "execution_count": 2,
   "id": "2dc37b2c",
   "metadata": {},
   "outputs": [
    {
     "name": "stdout",
     "output_type": "stream",
     "text": [
      "your destruction is imminent\n"
     ]
    }
   ],
   "source": [
    "threat = \"your destruction is imminent\"\n",
    "print(threat)"
   ]
  },
  {
   "cell_type": "code",
   "execution_count": 4,
   "id": "1fce53ac",
   "metadata": {},
   "outputs": [
    {
     "name": "stdout",
     "output_type": "stream",
     "text": [
      "is your destruction imminent? y/n: maybe\n",
      "you have escaped destruction... for now...\n"
     ]
    }
   ],
   "source": [
    "fate = input(\"is your destruction imminent? y/n: \")\n",
    "if fate == \"y\":\n",
    "    print(\"bam\")\n",
    "else: print(\"you have escaped destruction... for now...\")"
   ]
  },
  {
   "cell_type": "code",
   "execution_count": null,
   "id": "cfa049d8",
   "metadata": {},
   "outputs": [],
   "source": []
  }
 ],
 "metadata": {
  "kernelspec": {
   "display_name": "Python 3",
   "language": "python",
   "name": "python3"
  },
  "language_info": {
   "codemirror_mode": {
    "name": "ipython",
    "version": 3
   },
   "file_extension": ".py",
   "mimetype": "text/x-python",
   "name": "python",
   "nbconvert_exporter": "python",
   "pygments_lexer": "ipython3",
   "version": "3.8.8"
  }
 },
 "nbformat": 4,
 "nbformat_minor": 5
}
