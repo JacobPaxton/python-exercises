{
 "cells": [
  {
   "cell_type": "code",
   "execution_count": 1,
   "id": "7bbfbb8e",
   "metadata": {},
   "outputs": [],
   "source": [
    "from function_exercises import get_letter_grade as grade"
   ]
  },
  {
   "cell_type": "code",
   "execution_count": 2,
   "id": "aef4294f",
   "metadata": {},
   "outputs": [
    {
     "data": {
      "text/plain": [
       "'A'"
      ]
     },
     "execution_count": 2,
     "metadata": {},
     "output_type": "execute_result"
    }
   ],
   "source": [
    "grade(90)"
   ]
  },
  {
   "cell_type": "code",
   "execution_count": 3,
   "id": "623dc767",
   "metadata": {},
   "outputs": [],
   "source": [
    "import function_exercises"
   ]
  },
  {
   "cell_type": "code",
   "execution_count": 4,
   "id": "e5cd2e25",
   "metadata": {},
   "outputs": [
    {
     "name": "stdout",
     "output_type": "stream",
     "text": [
      "10.0\n"
     ]
    }
   ],
   "source": [
    "print(function_exercises.calculate_tip(.1, 100))"
   ]
  },
  {
   "cell_type": "code",
   "execution_count": null,
   "id": "de396818",
   "metadata": {},
   "outputs": [],
   "source": []
  }
 ],
 "metadata": {
  "kernelspec": {
   "display_name": "Python 3",
   "language": "python",
   "name": "python3"
  },
  "language_info": {
   "codemirror_mode": {
    "name": "ipython",
    "version": 3
   },
   "file_extension": ".py",
   "mimetype": "text/x-python",
   "name": "python",
   "nbconvert_exporter": "python",
   "pygments_lexer": "ipython3",
   "version": "3.8.8"
  }
 },
 "nbformat": 4,
 "nbformat_minor": 5
}
